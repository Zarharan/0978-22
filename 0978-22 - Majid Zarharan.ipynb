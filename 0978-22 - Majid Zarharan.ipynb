{
  "nbformat": 4,
  "nbformat_minor": 0,
  "metadata": {
    "colab": {
      "provenance": [],
      "collapsed_sections": [
        "YJIKhJYZ9LTC",
        "Wy5hCTyzAXRl",
        "8mAJBA8A9bV2",
        "rmJHOjJjAS0O",
        "APagwyabGwPz",
        "qw20exQCfGN4"
      ]
    },
    "kernelspec": {
      "name": "python3",
      "display_name": "Python 3"
    },
    "language_info": {
      "name": "python"
    }
  },
  "cells": [
    {
      "cell_type": "markdown",
      "source": [
        "# Install and Import"
      ],
      "metadata": {
        "id": "YJIKhJYZ9LTC"
      }
    },
    {
      "cell_type": "code",
      "execution_count": 138,
      "metadata": {
        "colab": {
          "base_uri": "https://localhost:8080/"
        },
        "id": "9L56JpdtCTFl",
        "outputId": "8b876ca9-cb4b-4f9c-d4bf-ae7517ef4142"
      },
      "outputs": [
        {
          "output_type": "stream",
          "name": "stdout",
          "text": [
            "Looking in indexes: https://pypi.org/simple, https://us-python.pkg.dev/colab-wheels/public/simple/\n",
            "Requirement already satisfied: PyPDF2 in /usr/local/lib/python3.7/dist-packages (2.11.1)\n",
            "Requirement already satisfied: typing-extensions>=3.10.0.0 in /usr/local/lib/python3.7/dist-packages (from PyPDF2) (4.1.1)\n"
          ]
        }
      ],
      "source": [
        "!pip install PyPDF2"
      ]
    },
    {
      "cell_type": "code",
      "source": [
        "import re\n",
        "import PyPDF2\n",
        "import glob\n",
        "from matplotlib import pyplot as plt\n",
        "import os\n",
        "from collections import Counter"
      ],
      "metadata": {
        "id": "Yc1bRXgEGPIK"
      },
      "execution_count": 139,
      "outputs": []
    },
    {
      "cell_type": "markdown",
      "source": [
        "# Dataset"
      ],
      "metadata": {
        "id": "I1EjTMp4DlJ2"
      }
    },
    {
      "cell_type": "markdown",
      "source": [
        "## Class"
      ],
      "metadata": {
        "id": "Wy5hCTyzAXRl"
      }
    },
    {
      "cell_type": "code",
      "source": [
        "class PDFDataset():\n",
        "  '''\n",
        "  By using PDFDataset we can read all PDF files in pdf_dir and return each page content and the total number of pages in the PDF file.\n",
        "  :param pdf_dir: the name of directory that includes PDF files\n",
        "  :type post_limit_no: str\n",
        "\n",
        "  :ivar pdf_dir: store the name of directory that includes PDF files\n",
        "  :vartype pdf_dir: str\n",
        "  :ivar ground_truth: include each pdf file's name and the page number of TOC\n",
        "  :vartype ground_truth: dict\n",
        "  :ivar gt_page_content_dict: fill with each pdf page's content and the total number of pages in the PDF file after calling read_ground_truth_pages function.\n",
        "  :vartype gt_page_content_dict: dict\n",
        "  '''\n",
        "\n",
        "  def __init__(self, dir_path):\n",
        "\n",
        "    self.pdf_dir= dir_path\n",
        "    self.ground_truth= {\"abcam_2013.pdf\":3, \"ABERDEEN_2015.pdf\":5\n",
        "      , \"access intelligence plc  report and accounts 2015.pdf\": 2\n",
        "      , \"afren plc  report and accounts 2007.pdf\": 2\n",
        "      , \"alexandra plc  report and accounts 2004.pdf\": 2\n",
        "      , \"allocate software plc  report and accounts 2012.pdf\":2\n",
        "      , \"GOTTEX FUND MANAGEMENT HOLDINGS LTD  REPORT AND ACCOUNTS 2008.pdf\": 2\n",
        "      , \"HELICAL BAR PLC  REPORT AND ACCOUNTS 2016.pdf\": 2\n",
        "      , \"HSBC HOLDINGS PLC  REPORT AND ACCOUNTS 2014  CHINESE TEXT.pdf\": 2\n",
        "      , \"LLOYDS BANKING GROUP PLC  REPORT AND ACCOUNTS 2012.pdf\": 2\n",
        "      , \"MITON GROUP PLC  REPORT AND ACCOUNTS 2013.pdf\": 3\n",
        "      , \"ocado group plc  report and accounts 2015.pdf\": 5\n",
        "      , \"RANDGOLD RESOURCES LTD  REPORT AND ACCOUNTS 2015  FRENCH TEXT.pdf\": 6}\n",
        "\n",
        "\n",
        "  def read_pdf_range(self, file_name, end_page, start_page= 0):\n",
        "    '''this function returns list of pages content of the given file from start_page to the end_page (zero-indexed)\n",
        "    and the total number of pages in the PDF file\n",
        "\n",
        "    :param file_name: the name of target file in the pdf_dir directory\n",
        "    :type file_name: str\n",
        "    :param  end_page: the final page to read content (the content of end_page is not returned)\n",
        "    :type end_page: int\n",
        "    :param  start_page: the start page to read content (the content of start_page is returned)\n",
        "    :type start_page: int        \n",
        "\n",
        "    :returns: a tuple that includes each page content from start page to the end page and the total number of pages in the PDF file\n",
        "    :rtype: tuple\n",
        "    '''\n",
        "\n",
        "    # read the file\n",
        "    pdfFileObj = open(self.pdf_dir+file_name, 'rb')\n",
        "\n",
        "    # creating a pdf reader object\n",
        "    pdfReader = PyPDF2.PdfFileReader(pdfFileObj)\n",
        "    \n",
        "    pages_content= []\n",
        "    for index in range(start_page, end_page):\n",
        "      pageObj = pdfReader.getPage(index)\n",
        "      pages_content.append(pageObj.extractText())\n",
        "    \n",
        "    return pages_content, pdfReader.numPages\n",
        "          \n",
        "\n",
        "  def read_pdf_page(self, file_path, page_no):\n",
        "    '''this function returns content of a specific page of the given file and the total number of pages in the PDF file\n",
        "\n",
        "    :param file_name: the name of target file in the pdf_dir directory\n",
        "    :type file_name: str\n",
        "    :param  page_no: the page number to read its content (zero-indexed)\n",
        "    :type page_no: int\n",
        "\n",
        "    :returns: a tuple that includes the target page content of the given file and the total number of pages in the PDF file\n",
        "    :rtype: tuple\n",
        "    '''\n",
        "\n",
        "    page_content, numPages= self.read_pdf_range(file_path, page_no, start_page= page_no-1)\n",
        "    return page_content[0], numPages            \n",
        "\n",
        "\n",
        "  def read_ground_truth_pages(self, first_pages_no):\n",
        "    '''this function returns content of all ground truth files and their total number of pages\n",
        "\n",
        "    :param file_name: the number of first pages to read (zero-indexed) ex: 15 means to read the first 15 pages (0-14)\n",
        "    :type file_name: int\n",
        "\n",
        "    :returns: a dictionary (key= name of pdf files) that includes another dictionary that consists of the content of all ground truth files (key= pages_content) \n",
        "    and their total number of pages (key= num_pages)\n",
        "    :rtype: dict\n",
        "    '''\n",
        "\n",
        "    self.gt_page_content_dict = dict()\n",
        "    for pdf_name, pdf_toc_page_no in pdf_dataset.ground_truth.items():\n",
        "      pages_content, num_pages= self.read_pdf_range(pdf_name ,first_pages_no)\n",
        "      self.gt_page_content_dict[pdf_name]= {\"pages_content\":pages_content, \"num_pages\": num_pages}\n",
        "\n",
        "    return self.gt_page_content_dict"
      ],
      "metadata": {
        "id": "tXpvJ1FR9f9P"
      },
      "execution_count": 204,
      "outputs": []
    },
    {
      "cell_type": "markdown",
      "source": [
        "## Read Dataset"
      ],
      "metadata": {
        "id": "8mAJBA8A9bV2"
      }
    },
    {
      "cell_type": "code",
      "source": [
        "# connect to google drive\n",
        "from google.colab import drive\n",
        "drive.mount('/content/drive')"
      ],
      "metadata": {
        "colab": {
          "base_uri": "https://localhost:8080/"
        },
        "id": "epBQOrqK9eDm",
        "outputId": "eb109e21-b8d6-441d-def2-8801a712d918"
      },
      "execution_count": 297,
      "outputs": [
        {
          "output_type": "stream",
          "name": "stdout",
          "text": [
            "Drive already mounted at /content/drive; to attempt to forcibly remount, call drive.mount(\"/content/drive\", force_remount=True).\n"
          ]
        }
      ]
    },
    {
      "cell_type": "code",
      "source": [
        "# directory of ground truth pdf files\n",
        "pdf_dir= '/content/drive/MyDrive/Apply/University/Lancaster/pdfs/'\n",
        "# create an object of PDFDataset class \n",
        "pdf_dataset= PDFDataset(pdf_dir)"
      ],
      "metadata": {
        "id": "vMIhT_vk-Lms"
      },
      "execution_count": 298,
      "outputs": []
    },
    {
      "cell_type": "code",
      "source": [
        "# Count each TOC page number of ground truth to plot bar chart\n",
        "gt_chart_data= Counter(pdf_dataset.ground_truth.values())\n",
        "plt.bar(gt_chart_data.keys(), gt_chart_data.values())\n",
        "plt.xlabel(\"Frequency of TOC considering the ground truth\")\n",
        "plt.show()"
      ],
      "metadata": {
        "colab": {
          "base_uri": "https://localhost:8080/",
          "height": 279
        },
        "id": "BMOnagBiI-PL",
        "outputId": "11a2d465-19ba-4294-ee09-ff8b1c777639"
      },
      "execution_count": 299,
      "outputs": [
        {
          "output_type": "display_data",
          "data": {
            "text/plain": [
              "<Figure size 432x288 with 1 Axes>"
            ],
            "image/png": "[encoded data removed]"
          },
          "metadata": {
            "needs_background": "light"
          }
        }
      ]
    },
    {
      "cell_type": "code",
      "source": [
        "# read the content of 15 first pages of the ground truth pdf files \n",
        "gt_page_content_dict= pdf_dataset.read_ground_truth_pages(first_pages_no= 15)"
      ],
      "metadata": {
        "colab": {
          "base_uri": "https://localhost:8080/"
        },
        "id": "BnHfE19TKrGj",
        "outputId": "ce8aea22-7a14-428e-cb11-c6d0afa13e9d"
      },
      "execution_count": 300,
      "outputs": [
        {
          "output_type": "stream",
          "name": "stderr",
          "text": [
            "WARNING:PyPDF2._reader:Xref table not zero-indexed. ID numbers for objects will be corrected.\n"
          ]
        }
      ]
    },
    {
      "cell_type": "code",
      "source": [
        "# get content of the TOC page from 'abcam_2013.pdf' file to check the function\n",
        "test_file_name= \"abcam_2013.pdf\"\n",
        "print(pdf_dataset.gt_page_content_dict[test_file_name][\"num_pages\"])\n",
        "print(len(pdf_dataset.gt_page_content_dict[test_file_name][\"pages_content\"]))\n",
        "pdf_dataset.gt_page_content_dict[test_file_name][\"pages_content\"][pdf_dataset.ground_truth[test_file_name]-1]"
      ],
      "metadata": {
        "colab": {
          "base_uri": "https://localhost:8080/",
          "height": 192
        },
        "id": "tbMoIufjO9ow",
        "outputId": "b2d4350f-fe7d-4e1c-fd25-3ba6513db7b7"
      },
      "execution_count": 301,
      "outputs": [
        {
          "output_type": "stream",
          "name": "stdout",
          "text": [
            "96\n",
            "15\n"
          ]
        },
        {
          "output_type": "execute_result",
          "data": {
            "text/plain": [
              "\"With our 2013 Annual Report \\nwe\\xa0celebrate 15 years of Abcam’s continual drive\\xa0for\\xa0discovery\\nAbcam’s success over the past 15 years \\nreflects the strength of our vision to become the leading supplier of life science research tools. Our people and our drive to succeed support our mission of enabling scientists to\\xa0discover more. Our global team always \\nstrives to offer the best products and services \\nto our customers. \\nWith three acquisitions over the previous \\ntwo\\xa0years, Abcam has worked hard on M&A integration as well as delivering business as\\xa0usual. This ensures our customers benefit from both existing and new product additions as\\xa0well as\\xa0extended capabilities and service\\xa0offerings.\\nDespite continued pressure on research \\nbudgets, Abcam has continued to produce \\nstrong growth. I am excited about the future \\nand\\xa0what Abcam can achieve.\\nMike Redmond\\nChairmanOverview\\n 2 Abcam in brief \\n 4 Our business\\n 6 Our people\\n 8 Our history\\n 10 Chairman's statement\\nStrategic review\\n 11  Chief executive officer’s \\nreview\\n 12 The strategic plan \\nPerformance review \\n 20 Financial review \\n 25  Principal risks and uncertainties\\n 28  Corporate social \\nresponsibility\\nCorporate governance\\n 31 Message from the Chairman\\n 32 Board of directors\\n 34 Executive management team\\n 36 General managers\\n 37  Corporate governance \\nstatement\\n 40 Audit committee\\n 41 Nomination committee\\n 42  Directors’ remuneration \\nreport\\n 50 Other disclosures\\n 52  Statement of directors’ responsibilitiesFinancial statements\\n 54 Independent auditor’s report\\n 55  Consolidated income \\nstatement \\n 56  Reconciliation of adjusted financial\\xa0measures\\n   Consolidated statement \\nof\\xa0comprehensive\\xa0income\\n 57 Balance sheets\\n 58  Consolidated statement \\nof\\xa0changes in equity\\n 59  Company statement \\nof\\xa0changes in equity\\n 60  Cash flow statements\\n 61  Notes to the financial\\xa0statements\\nIBC Corporate directory\\n  Shareholder information\\nThroughout this report we\\xa0have \\nhighlighted 15 areas we believe \\nset us apart from the rest and are \\ncrucial to the\\xa0ongoing success of \\nour\\xa0business.\\nStart turning the pages \\nto\\xa0discover more \\nOverview\\n Strategic review Performance review Financial statements Corporate governance\\n1\\n Abcam plc Annual Report and Accounts 2013\""
            ],
            "application/vnd.google.colaboratory.intrinsic+json": {
              "type": "string"
            }
          },
          "metadata": {},
          "execution_count": 301
        }
      ]
    },
    {
      "cell_type": "markdown",
      "source": [
        "# Models"
      ],
      "metadata": {
        "id": "n0ZyIncvAP02"
      }
    },
    {
      "cell_type": "markdown",
      "source": [
        "## Class"
      ],
      "metadata": {
        "id": "rmJHOjJjAS0O"
      }
    },
    {
      "cell_type": "code",
      "source": [
        "class TOCModels():\n",
        "  '''\n",
        "  By using TOCModels class we can experiment with different methods to find the TOC page number.\n",
        "  :param ground_truth: A dictionary that includes each ground truth pdf file's name and the page number of TOC\n",
        "  :type ground_truth: dict\n",
        "\n",
        "  :ivar month_names: Name of months in English to use in different patterns\n",
        "  :vartype month_names: list\n",
        "  :ivar date_pattern: The first pattern  to find dates in page's content (ex: Jan/January 15)\n",
        "  :vartype date_pattern: str\n",
        "  :ivar date_pattern2: The first pattern  to find dates in page's content (ex: 15 Jan/January)\n",
        "  :vartype date_pattern2: str\n",
        "  :ivar pattern_month_name: Pattern to find month's name in page's content\n",
        "  :vartype pattern_month_name: str\n",
        "  '''\n",
        "\n",
        "  def __init__(self, ground_truth):\n",
        "    self.month_names= [\"Jan\", \"January\", \"Feb\", \"February\", \"Mar\", \"March\",\n",
        "              \"Apr\", \"April\", \"May\", \"June\", \"July\", \"Aug\", \"August\", \"Sep\", \"September\",\n",
        "              \"Oct\" ,\"October\",\"Nov\", \"November\", \"Dec\", \"December\"]\n",
        "    self.date_pattern= r\"\\bmonth_name\\b\\s*[^\\d]?\\d{2}[^\\d]{1}\"\n",
        "    self.date_pattern2= r\"[^\\d]{1}\\d{2}\\s*[^\\d]?\\bmonth_name\\b\"\n",
        "    self.ground_truth= ground_truth\n",
        "\n",
        "    self.pattern_month_name= r\"\\bJan\\b\"\n",
        "    for month in self.month_names[1:]:\n",
        "      self.pattern_month_name += r\"|\\b\" + month + r\"\\b\"\n",
        "\n",
        "\n",
        "  def find_toc_majority(self, print_acc= False):\n",
        "    ''' Get the TOC page number using majority vote\n",
        "\n",
        "    :param print_acc: If true, prints the prediction accuracy of all ground truth pdf files TOC page number\n",
        "    :type print_acc: bool\n",
        "\n",
        "    :returns: returns the suggested TOC page number\n",
        "    :rtype: int\n",
        "    '''\n",
        "\n",
        "    # count TOC page number of ground truth files\n",
        "    toc_counter= Counter(self.ground_truth.values())\n",
        "\n",
        "    # consider the most repeated page number of TOC in ground truth as prediction\n",
        "    toc_predicted= max(toc_counter, key= toc_counter.get)\n",
        "    if print_acc:\n",
        "      self.__calculate_accuracy([toc_predicted]*len(self.ground_truth))\n",
        "\n",
        "    return toc_predicted\n",
        "\n",
        "\n",
        "  def find_toc_rule_based(self, page_content_dict, min_index_no, max_page_to_find, print_acc= False\n",
        "                          , considering_special_words= False, special_words= [\"Contents\"]):\n",
        "    '''this function returns list of pages content of the given file from start_page to the end_page (zero-indexed)\n",
        "    and the total number of pages in the PDF file\n",
        "\n",
        "    :param page_content_dict: a dictionary (key= name of pdf files) that includes another dictionary that consists of the content of all ground truth files (key= pages_content) \n",
        "    and their total number of pages (key= num_pages)\n",
        "    :type page_content_dict: dict\n",
        "    :param  min_index_no: minimun number of index should exists in the TOC page\n",
        "    :type min_index_no: int\n",
        "    :param  max_page_to_find: max page number to explore for TOC\n",
        "    :type max_page_to_find: int\n",
        "    :param print_acc: If true, prints the prediction accuracy of all ground truth pdf files TOC page number\n",
        "    :type print_acc: bool    \n",
        "    :param considering_special_words: Consider weather some special words to reorder the candidate pages for being TOC\n",
        "    :type max_page_to_find: bool\n",
        "    :param  special_words: some special words to reorder the candidate pages for being TOC\n",
        "    :type special_words: list\n",
        "\n",
        "    :returns: candidate pages for being TOC of each pdf file that exists in page_content_dict\n",
        "    :rtype: dict\n",
        "    '''\n",
        "\n",
        "    # {\"pages_content\":pages_content, \"num_pages\": num_pages}\n",
        "\n",
        "    candidates_page= dict()\n",
        "    prediction= []\n",
        "\n",
        "    for pdf_name, content in page_content_dict.items():\n",
        "      candidates_page[pdf_name]=[]\n",
        "      \n",
        "      for page_idx in range(max_page_to_find):\n",
        "        if self.__is_toc(content[\"pages_content\"][page_idx], content[\"num_pages\"], min_index_no):\n",
        "          if considering_special_words and any(word in content[\"pages_content\"][page_idx] for word in special_words):\n",
        "            candidates_page[pdf_name].insert(0, page_idx + 1)\n",
        "          else:\n",
        "            candidates_page[pdf_name].append(page_idx + 1)\n",
        "\n",
        "      if len(candidates_page[pdf_name])==0:\n",
        "        candidates_page[pdf_name].append(self.find_toc_majority())\n",
        "      \n",
        "      prediction.append(candidates_page[pdf_name][0])\n",
        "          \n",
        "    if print_acc:\n",
        "      self.__calculate_accuracy(prediction)\n",
        "\n",
        "    return candidates_page\n",
        "\n",
        "\n",
        "  def __is_toc(self, page_content, num_pages, min_index_no):\n",
        "    '''this function a page is TOC or not by using some rules\n",
        "\n",
        "    :param page_content: the content of target page\n",
        "    :type page_content: str\n",
        "    :param num_pages: the total number of pages in the PDF file\n",
        "    :type num_pages: int\n",
        "    :param  min_index_no: minimun number of index should exists in the TOC page\n",
        "    :type min_index_no: int\n",
        "\n",
        "    :returns: return True (the page is probably TOC) or False\n",
        "    :rtype: boor\n",
        "    '''\n",
        "\n",
        "    # if month names are repeated more than 10 times, it's not TOC\n",
        "    months_name_no_in_page= len(re.findall(self.pattern_month_name, page_content))\n",
        "    if months_name_no_in_page> 10:\n",
        "      return False\n",
        "    \n",
        "    # if month names are repeated more than 10 times, it's not TOC\n",
        "    for month in self.month_names:\n",
        "      months_name_no_in_page+= len(re.findall(self.date_pattern.replace(\"month_name\", month), page_content))\n",
        "      months_name_no_in_page+= len(re.findall(self.date_pattern2.replace(\"month_name\", month), page_content))\n",
        "    \n",
        "    if months_name_no_in_page> 10:\n",
        "      return False\n",
        "\n",
        "    # remove digits plus two characters like '1st', '2nd', '10th', '22nd'\n",
        "    page_content= re.sub(\"\\d+(?:st|nd|rd|th)(\\s)+\", \"\", page_content)\n",
        "    \n",
        "    # find dates like Jan 10 or 10 Jan and remove them from page content\n",
        "    for month in self.month_names:\n",
        "      page_content= re.sub(self.date_pattern.replace(\"month_name\", month), \" \", page_content)\n",
        "      page_content= re.sub(self.date_pattern2.replace(\"month_name\", month), \" \", page_content)\n",
        "\n",
        "    # in some occosions, when read TOC page from a PDF file, page number has no space with the next or previous token.\n",
        "    # if thses numbers are in range 1 to the total page number of the pdf file, we should consider these numbers too. \n",
        "\n",
        "    # find all tokens which start with a number and tokens do not include any punctuation\n",
        "    tokens_start_with_num= re.findall(r\"\\s+\\d+[a-zA-Z’']+\\s+\", page_content)\n",
        "    tokens_start_with_num= [num for num in re.findall(r'\\d+', ' '.join(tokens_start_with_num)) if int(num)>= 1 and int(num)<= num_pages]\n",
        "\n",
        "    # find all tokens which end with a number and tokens do not include any punctuation\n",
        "    tokens_end_with_num= re.findall(r\"\\s+[a-zA-Z’']+\\d+\\s+\", page_content)\n",
        "    tokens_end_with_num= [num for num in re.findall(r'\\d+', ' '.join(tokens_end_with_num)) if int(num)>= 1 and int(num)<= num_pages]\n",
        "\n",
        "    all_nums_lst= [int(word) for word in page_content.split() if word.isdigit() and int(word)<= num_pages]\n",
        "\n",
        "    if len(all_nums_lst) + len(tokens_start_with_num)+ len(tokens_end_with_num) < min_index_no:\n",
        "      return False\n",
        "\n",
        "    return True\n",
        "\n",
        "\n",
        "  def __calculate_accuracy(self, prediction_list):\n",
        "    '''this function calculates accuracy of the prediction considering the self.ground_truth\n",
        "\n",
        "    :param prediction_list: the list of prediction of TOC page number\n",
        "    :type prediction_list: list  \n",
        "\n",
        "    :returns: returns the accuracy\n",
        "    :rtype: float\n",
        "    '''    \n",
        "    accuracy= 0\n",
        "    for y,pred_y in zip(self.ground_truth.values(),prediction_list):\n",
        "      if pred_y==y:\n",
        "        accuracy+= 1\n",
        "    \n",
        "    accuracy /= len(prediction_list)\n",
        "    print(\"prediction accuracy is: \", accuracy)\n",
        "    print()\n",
        "    return accuracy\n"
      ],
      "metadata": {
        "id": "UXwp-EQ9AWAG"
      },
      "execution_count": 302,
      "outputs": []
    },
    {
      "cell_type": "markdown",
      "source": [
        "## Experiments"
      ],
      "metadata": {
        "id": "APagwyabGwPz"
      }
    },
    {
      "cell_type": "code",
      "source": [
        "# create an object of TOCModels class \n",
        "toc_finder= TOCModels(pdf_dataset.ground_truth)"
      ],
      "metadata": {
        "id": "zxFdjs7lG3sP"
      },
      "execution_count": 290,
      "outputs": []
    },
    {
      "cell_type": "markdown",
      "source": [
        "### Majority Vote"
      ],
      "metadata": {
        "id": "pkK-N3gyG0E0"
      }
    },
    {
      "cell_type": "code",
      "source": [
        "# predict TOC page number using majority vote\n",
        "toc_page_no= toc_finder.find_toc_majority(print_acc= True)\n",
        "\n",
        "print(\"The page number of TOC in all PDF is: \", toc_page_no)"
      ],
      "metadata": {
        "colab": {
          "base_uri": "https://localhost:8080/"
        },
        "id": "6zZU7HVNET1I",
        "outputId": "d6f35ab4-39bf-4f7d-f932-4c9654b8f2cd"
      },
      "execution_count": 291,
      "outputs": [
        {
          "output_type": "stream",
          "name": "stdout",
          "text": [
            "prediction accuracy is:  0.6153846153846154\n",
            "\n",
            "The page number of TOC in all PDF is:  2\n"
          ]
        }
      ]
    },
    {
      "cell_type": "markdown",
      "source": [
        "### My Heuristic Rule-Based Model"
      ],
      "metadata": {
        "id": "JpufylmvJQJZ"
      }
    },
    {
      "cell_type": "code",
      "source": [
        "# by exploring all (13) pdf files I set min_index_number = 15\n",
        "# predict TOC page number using rule based model without using special words\n",
        "rule_based_result= toc_finder.find_toc_rule_based(page_content_dict= pdf_dataset.gt_page_content_dict\n",
        "                               , min_index_no= 15, max_page_to_find= 15, print_acc= True)"
      ],
      "metadata": {
        "id": "2W58T483UANk",
        "colab": {
          "base_uri": "https://localhost:8080/"
        },
        "outputId": "73932a7b-8fa8-4bcd-8eea-deeca4542f38"
      },
      "execution_count": 292,
      "outputs": [
        {
          "output_type": "stream",
          "name": "stdout",
          "text": [
            "prediction accuracy is:  0.9230769230769231\n",
            "\n"
          ]
        }
      ]
    },
    {
      "cell_type": "code",
      "source": [
        "# print each file's candidat page for TOC\n",
        "rule_based_result"
      ],
      "metadata": {
        "colab": {
          "base_uri": "https://localhost:8080/"
        },
        "id": "NYvyUyHAagiF",
        "outputId": "a23e022a-b6bf-4a30-d0b0-c12202c1441c"
      },
      "execution_count": 293,
      "outputs": [
        {
          "output_type": "execute_result",
          "data": {
            "text/plain": [
              "{'abcam_2013.pdf': [3],\n",
              " 'ABERDEEN_2015.pdf': [5],\n",
              " 'access intelligence plc  report and accounts 2015.pdf': [2],\n",
              " 'afren plc  report and accounts 2007.pdf': [2, 8, 9],\n",
              " 'alexandra plc  report and accounts 2004.pdf': [2],\n",
              " 'allocate software plc  report and accounts 2012.pdf': [2, 3, 5],\n",
              " 'GOTTEX FUND MANAGEMENT HOLDINGS LTD  REPORT AND ACCOUNTS 2008.pdf': [2],\n",
              " 'HELICAL BAR PLC  REPORT AND ACCOUNTS 2016.pdf': [2],\n",
              " 'HSBC HOLDINGS PLC  REPORT AND ACCOUNTS 2014  CHINESE TEXT.pdf': [2],\n",
              " 'LLOYDS BANKING GROUP PLC  REPORT AND ACCOUNTS 2012.pdf': [2,\n",
              "  4,\n",
              "  5,\n",
              "  7,\n",
              "  9,\n",
              "  11,\n",
              "  13,\n",
              "  15],\n",
              " 'MITON GROUP PLC  REPORT AND ACCOUNTS 2013.pdf': [3],\n",
              " 'ocado group plc  report and accounts 2015.pdf': [3, 5, 13],\n",
              " 'RANDGOLD RESOURCES LTD  REPORT AND ACCOUNTS 2015  FRENCH TEXT.pdf': [6,\n",
              "  8,\n",
              "  9,\n",
              "  14]}"
            ]
          },
          "metadata": {},
          "execution_count": 293
        }
      ]
    },
    {
      "cell_type": "code",
      "source": [
        "# predict TOC page number using rule based model with using special words\n",
        "rule_based_result_special_words= toc_finder.find_toc_rule_based(page_content_dict= pdf_dataset.gt_page_content_dict\n",
        "                               , min_index_no= 15, max_page_to_find= 15, print_acc= True\n",
        "                               , considering_special_words= True, special_words= [\"Contents\"])"
      ],
      "metadata": {
        "colab": {
          "base_uri": "https://localhost:8080/"
        },
        "id": "M-yVrY7tWfkF",
        "outputId": "d8340843-7e34-4e91-f7bb-2c8de0819917"
      },
      "execution_count": 295,
      "outputs": [
        {
          "output_type": "stream",
          "name": "stdout",
          "text": [
            "prediction accuracy is:  1.0\n",
            "\n"
          ]
        }
      ]
    },
    {
      "cell_type": "code",
      "source": [
        "# print each file's candidat page for TOC\n",
        "rule_based_result_special_words"
      ],
      "metadata": {
        "colab": {
          "base_uri": "https://localhost:8080/"
        },
        "id": "-V2BnHwdW-aT",
        "outputId": "3d9e0492-d589-4a73-b2dc-699434dfc2bb"
      },
      "execution_count": 296,
      "outputs": [
        {
          "output_type": "execute_result",
          "data": {
            "text/plain": [
              "{'abcam_2013.pdf': [3],\n",
              " 'ABERDEEN_2015.pdf': [5],\n",
              " 'access intelligence plc  report and accounts 2015.pdf': [2],\n",
              " 'afren plc  report and accounts 2007.pdf': [2, 8, 9],\n",
              " 'alexandra plc  report and accounts 2004.pdf': [2],\n",
              " 'allocate software plc  report and accounts 2012.pdf': [2, 3, 5],\n",
              " 'GOTTEX FUND MANAGEMENT HOLDINGS LTD  REPORT AND ACCOUNTS 2008.pdf': [2],\n",
              " 'HELICAL BAR PLC  REPORT AND ACCOUNTS 2016.pdf': [2],\n",
              " 'HSBC HOLDINGS PLC  REPORT AND ACCOUNTS 2014  CHINESE TEXT.pdf': [2],\n",
              " 'LLOYDS BANKING GROUP PLC  REPORT AND ACCOUNTS 2012.pdf': [2,\n",
              "  4,\n",
              "  5,\n",
              "  7,\n",
              "  9,\n",
              "  11,\n",
              "  13,\n",
              "  15],\n",
              " 'MITON GROUP PLC  REPORT AND ACCOUNTS 2013.pdf': [3],\n",
              " 'ocado group plc  report and accounts 2015.pdf': [5, 3, 13],\n",
              " 'RANDGOLD RESOURCES LTD  REPORT AND ACCOUNTS 2015  FRENCH TEXT.pdf': [6,\n",
              "  8,\n",
              "  9,\n",
              "  14]}"
            ]
          },
          "metadata": {},
          "execution_count": 296
        }
      ]
    },
    {
      "cell_type": "markdown",
      "source": [
        "## Explore Wrong Predictions"
      ],
      "metadata": {
        "id": "qw20exQCfGN4"
      }
    },
    {
      "cell_type": "code",
      "source": [
        "print(pdf_dataset.gt_page_content_dict[\"ABERDEEN_2015.pdf\"][\"pages_content\"][13])"
      ],
      "metadata": {
        "colab": {
          "base_uri": "https://localhost:8080/"
        },
        "id": "3aY6vtMqUYPo",
        "outputId": "40cc6be9-7d9e-4d7a-896f-cb4ac6e67078"
      },
      "execution_count": 254,
      "outputs": [
        {
          "output_type": "stream",
          "name": "stdout",
          "text": [
            "14 Aberdeen Asset Management PLC Annual Report and Accounts 2015\n",
            "The market context\n",
            "In this section\n",
            "Key themes\n",
            "• Market uncertainty\n",
            "• The shift to solutions\n",
            "• Changing clients and distribution needs• Technology \n",
            "• Digital communication\n",
            "• Regulation\n",
            "Market uncertainty\n",
            "2015 was yet another year in which the market did not behave \n",
            "as many had forecast. This was supposed to be the year of a US interest rate rise, and lift-off for the US economy. Instead a tepid \n",
            "recovery has forced the US Federal Reserve to stay its hand. \n",
            "China’s slowdown has been telegraphed in collapsing commodity prices, which were welcomed at first, as they would lower producer costs. Now deflation may spread. Business confidence  \n",
            "is falling everywhere. \n",
            "The reaction of equity markets says it all. Having spent the early \n",
            "part of the year consolidating gains, a broad sell-off since the summer tipped most markets into losses, only for a sharp bounce \n",
            "in October on hopes of more quantitative easing. In general, \n",
            "currency falls in emerging markets have dented returns to dollar-based investors. Capital flows from these countries are set to turn negative for the first time since 1988.\n",
            "This does not seem like a re-run of past crises. With some notable \n",
            "exceptions, trade and capital balances are positive. Countries have reserves to protect currencies. Natural resource exporters such as \n",
            "Brazil and Russia are in deep recession; China’s planners meanwhile \n",
            "are trying to deflate property and other bubbles as they re-balance the economy towards services. But Asian neighbours can cope. Companies in the region are better run these days. We worry more about developed markets. US stocks have \n",
            "benefited from buybacks and corporate activity. Profit growth \n",
            "is now stalling. There is little room left to cut costs. If cheap money has not worked, prices need to fall to reflect lower growth prospects. Europe and Japan are in a similar fix. The message is just \n",
            "taking longer to get through because of distracting politics – such \n",
            "as Greece – and structural flaws. \n",
            "These conditions have helped fixed income. But with impending \n",
            "policy ‘normalisation’, volatility is likely to rise as investors become more risk averse. When that happens, questions over liquidity may \n",
            "come into play. The saving grace for us as fundamental investors is \n",
            "that quality will become more important, and with expected price overshoots there will be opportunities to buy good assets cheaply. \n",
            "The shift to solutions\n",
            "For the majority of investors the hum drum business of finding a real return is proving a challenge. Thanks to quantitative easing, the collapse in the ‘risk-free’ rate has forced many to buy riskier \n",
            "assets than they might like. \n",
            "Within equities, reduced volatility has allowed low-cost trackers \n",
            "such as ETFs (exchange traded funds) to gain market share from \n",
            "active managers who depend on price movement to differentiate \n",
            "returns. At the same time, asset class returns have become unpredictable. For example, the returns available from developed markets compared with developing ones have steadily widened over the past five years, reversing the gains that were made in the \n",
            "years after the global financial crisis. \n",
            "Perspective matters\n",
            "Developed markets vs emerging markets – 10 Years \n",
            "performance in USD\n",
            "%\n",
            "-/six.LT/zero.LT-/four.LT/zero.LT-/two.LT/zero.LT/zero.LT/two.LT/zero.LT/four.LT/zero.LT/six.LT/zero.LT/eight.LT/zero.LT/one.LT/zero.LT/zero.LT/one.LT/two.LT/zero.LT/one.LT/four.LT/zero.LT\n",
            "Sep\n",
            "15Sep\n",
            "14Sep\n",
            "13Sep\n",
            "12Sep\n",
            "11Sep\n",
            "10Sep\n",
            "09Sep\n",
            "08Sep\n",
            "07Sep\n",
            "06Sep\n",
            "05\n",
            "MSCI World MSCI emerging markets\n",
            "Source: Bloomberg, 30 September 2015.US monetary policy – still a question of when?\n",
            "Evolving expectations for Federal Reserve\n",
            "Implied Fed Funds rate\n",
            "15 Sep 14 21 Oct 14 31 Dec 14\n",
            "07 Jul 15 07 Oct 15/zero.LT./zero.LT/zero.LT./five.LT/one.LT./zero.LT/one.LT./five.LT/two.LT./zero.LT/two.LT./five.LT\n",
            "Sep\n",
            "18May\n",
            "18Jan\n",
            "18Sep\n",
            "17May\n",
            "17Jan\n",
            "17Sep\n",
            "16May\n",
            "16Jan\n",
            "16Sep\n",
            "15May\n",
            "15Jan\n",
            "15Sep\n",
            "14\n",
            "Source: Bloomberg, 7 October 2015.\n"
          ]
        }
      ]
    },
    {
      "cell_type": "markdown",
      "source": [
        "https://stackoverflow.com/questions/64700082/get-table-of-contents-from-a-pdf-with-python\n"
      ],
      "metadata": {
        "id": "KL8tV_H-lSZu"
      }
    }
  ]
}